{
 "cells": [
  {
   "cell_type": "code",
   "execution_count": 4,
   "metadata": {},
   "outputs": [
    {
     "name": "stdout",
     "output_type": "stream",
     "text": [
      "* \n",
      "* * \n",
      "* * * \n",
      "* * * * \n",
      "* * * * \n",
      "* * * \n",
      "* * \n",
      "* \n",
      "* \n",
      "* * \n",
      "* * * \n",
      "* * * * \n",
      "* * * * \n",
      "* * * \n",
      "* * \n",
      "* \n"
     ]
    }
   ],
   "source": [
    "for i in range(1,5):\n",
    "    for j in range(1,i+1):\n",
    "        print(\"*\",end=\" \")\n",
    "    print(end=\"\\n\")\n",
    "for i in range(1,5):\n",
    "    for j in range(5,i,-1):\n",
    "        print(\"*\",end=\" \")\n",
    "    print(end=\"\\n\")           \n",
    "for i in range(1,5):\n",
    "    for j in range(1,i+1):\n",
    "        print(\"*\",end=\" \")\n",
    "    print(end=\"\\n\")   \n",
    "for i in range(1,5):\n",
    "    for j in range(5,i,-1):\n",
    "        print(\"*\",end=\" \")\n",
    "    print(end=\"\\n\")       "
   ]
  },
  {
   "cell_type": "code",
   "execution_count": 6,
   "metadata": {},
   "outputs": [
    {
     "name": "stdout",
     "output_type": "stream",
     "text": [
      "* * * * * * * * * * \n",
      "* * * * *  * * * * * \n",
      "* * * * *   * * * * * \n",
      "* * * * *    * * * * * \n",
      "* * * * *     * * * * * \n",
      "* \n",
      "* * \n",
      "* * * \n",
      "* * * * \n",
      "* * * * * \n",
      "* * * * \n",
      "* * * \n",
      "* * \n",
      "* \n"
     ]
    }
   ],
   "source": [
    "for i in range(0,5):\n",
    "    for j in range(6,1,-1):\n",
    "        print(\"*\",end=\" \")\n",
    "    for k in range(1,i+1):\n",
    "        print(end=\" \")\n",
    "    for l in range(5,0,-1):\n",
    "        print(\"*\",end=\" \")\n",
    "    print(end=\"\\n\")   \n",
    "for i in range(1,6):\n",
    "    for j in range(1,i+1):\n",
    "        print(\"*\",end=\" \")\n",
    "    print(end=\"\\n\")   \n",
    "for i in range(5,1,-1):\n",
    "    for j in range(i,1,-1):\n",
    "        print(\"*\",end=\" \")\n",
    "    print(end=\"\\n\")     \n"
   ]
  },
  {
   "cell_type": "code",
   "execution_count": null,
   "metadata": {},
   "outputs": [],
   "source": [
    "for i in range(0,5):\n",
    "    for s in range(6,i,-1):\n",
    "        print(end=\"  \")    \n",
    "    for j in range(0,i+1):\n",
    "        print(\"*\",end=\" \")\n",
    "    \n",
    "    print(end=\"\\n\")     \n",
    "    \n",
    "\n"
   ]
  },
  {
   "cell_type": "code",
   "execution_count": null,
   "metadata": {},
   "outputs": [],
   "source": [
    "mylist=[]\n",
    "mylist=list[(map(int,input(\"Enter 5 numbers: \").split()))]"
   ]
  },
  {
   "cell_type": "code",
   "execution_count": 8,
   "metadata": {},
   "outputs": [
    {
     "name": "stdout",
     "output_type": "stream",
     "text": [
      "enter a5\n",
      "enter b6\n",
      "enter c5\n",
      "a is greater\n"
     ]
    }
   ],
   "source": [
    "a=int(input('enter a'))\n",
    "b=int(input('enter b'))\n",
    "c=int(input('enter c'))\n",
    "if(a>b and a>c) or a==b or a==c:\n",
    "    print('a is greater')\n",
    "elif(b>c):\n",
    "    print('b is greater')\n",
    "else:\n",
    "    print('c is greater')\n",
    "    \n"
   ]
  },
  {
   "cell_type": "code",
   "execution_count": 1,
   "metadata": {},
   "outputs": [
    {
     "name": "stdout",
     "output_type": "stream",
     "text": [
      "stone\n"
     ]
    }
   ],
   "source": [
    "import random\n",
    "l=['stone','paper','scissor']\n",
    "#a=input('enter stone | paper | scissor')\n",
    "rl=l[random.randrange(len(l))]\n",
    "print(rl)\n",
    "\n",
    "\n"
   ]
  },
  {
   "cell_type": "code",
   "execution_count": 17,
   "metadata": {},
   "outputs": [
    {
     "name": "stdout",
     "output_type": "stream",
     "text": [
      "['__add__', '__class__', '__contains__', '__delattr__', '__dir__', '__doc__', '__eq__', '__format__', '__ge__', '__getattribute__', '__getitem__', '__getnewargs__', '__gt__', '__hash__', '__init__', '__init_subclass__', '__iter__', '__le__', '__len__', '__lt__', '__mod__', '__mul__', '__ne__', '__new__', '__reduce__', '__reduce_ex__', '__repr__', '__rmod__', '__rmul__', '__setattr__', '__sizeof__', '__str__', '__subclasshook__', 'capitalize', 'casefold', 'center', 'count', 'encode', 'endswith', 'expandtabs', 'find', 'format', 'format_map', 'index', 'isalnum', 'isalpha', 'isdecimal', 'isdigit', 'isidentifier', 'islower', 'isnumeric', 'isprintable', 'isspace', 'istitle', 'isupper', 'join', 'ljust', 'lower', 'lstrip', 'maketrans', 'partition', 'replace', 'rfind', 'rindex', 'rjust', 'rpartition', 'rsplit', 'rstrip', 'split', 'splitlines', 'startswith', 'strip', 'swapcase', 'title', 'translate', 'upper', 'zfill']\n"
     ]
    }
   ],
   "source": [
    "print(dir(str))"
   ]
  },
  {
   "cell_type": "code",
   "execution_count": 7,
   "metadata": {},
   "outputs": [
    {
     "name": "stdout",
     "output_type": "stream",
     "text": [
      "enter input foo | barf o o\n",
      "bar\n"
     ]
    }
   ],
   "source": [
    "usrinput=input('enter input foo | bar').strip().lower()\n",
    "list_string = usrinput.split(' ') \n",
    "usrinput = ''.join(list_string)\n",
    "if(usrinput=='foo' or usrinput.upper()=='FOO' or usrinput.istitle()=='Foo' or usrinput.lstrip()=='foo' or usrinput.strip()=='foo' ):\n",
    "    print('bar')\n",
    "elif(usrinput=='bar' or usrinput.upper()=='BAR' or usrinput.istitle()=='Bar'  or usrinput.lstrip()=='Bar' or usrinput.strip()=='Bar'):\n",
    "    print('foo')\n",
    "else:\n",
    "    print('foo|bar')"
   ]
  },
  {
   "cell_type": "code",
   "execution_count": 14,
   "metadata": {},
   "outputs": [
    {
     "name": "stdout",
     "output_type": "stream",
     "text": [
      "Enter Your age18\n",
      "choose your sector \n",
      "1.Government\n",
      "2.Private\n",
      "1\n",
      "You have more chances for loan\n"
     ]
    }
   ],
   "source": [
    "age=int(input('Enter Your age'))\n",
    "if(age<18):\n",
    "    print('You have no chances bcz ur age is below 18')\n",
    "else:\n",
    "    print('choose your sector \\n1.Government\\n2.Private')\n",
    "    sector=int(input())\n",
    "    if(sector==1):\n",
    "        print('You have more chances for loan')\n",
    "    elif(sector==2):\n",
    "        print('You have less chances for loan')\n",
    "    else:\n",
    "        print('wrong input')\n",
    "        "
   ]
  },
  {
   "cell_type": "code",
   "execution_count": 7,
   "metadata": {},
   "outputs": [
    {
     "name": "stdout",
     "output_type": "stream",
     "text": [
      "Enter Input Stone | Paper | Scissor\n",
      "Player 1 Input\n",
      "········\n",
      "Player 2 Input\n",
      "········\n",
      "User1 :stone\n",
      "User2 :paper\n",
      "paper\n",
      "user2 won\n"
     ]
    }
   ],
   "source": [
    "from getpass import getpass\n",
    "print('Enter Input Stone | Paper | Scissor')\n",
    "print('Player 1 Input')\n",
    "user1=getpass()\n",
    "print('Player 2 Input')\n",
    "user2=getpass()\n",
    "print('User1 :'+ user1)\n",
    "print('User2 :'+ user2)\n",
    "\n",
    "if(user1=='stone' and user2=='paper'):\n",
    "    print('paper')\n",
    "    print('user2 won')\n",
    "elif(user1=='stone' and user2=='scissor'):\n",
    "    print('stone')\n",
    "    print('user1 won')\n",
    "elif(user1=='paper' and user2=='scissor'):\n",
    "    print('scissor')\n",
    "    print('user2 won')\n",
    "elif((user1=='stone' and user2=='stone') or (user1=='paper' and user2=='paper') or (user1=='scissor' and user2=='scissor')):\n",
    "    print('tie')\n",
    "elif(user2=='stone' and user1=='paper'):\n",
    "    print('paper')\n",
    "    print('user1 won')\n",
    "elif(user2=='stone' and user1=='scissor'):\n",
    "    print('stone')\n",
    "    print('user2 won')\n",
    "elif(user2=='paper' and user1=='scissor'):\n",
    "    print('scissor')\n",
    "    print('user1 won')\n",
    "\n",
    "    \n"
   ]
  },
  {
   "cell_type": "code",
   "execution_count": 9,
   "metadata": {},
   "outputs": [
    {
     "name": "stdout",
     "output_type": "stream",
     "text": [
      "enter input foo | barf o o\n",
      "foo\n"
     ]
    }
   ],
   "source": [
    "usrinput=input('enter input foo | bar').strip().lower()\n",
    "list_string = usrinput.split(' ') \n",
    "usrinput = ''.join(list_string)\n",
    "print(usrinput)"
   ]
  },
  {
   "cell_type": "code",
   "execution_count": null,
   "metadata": {},
   "outputs": [],
   "source": []
  }
 ],
 "metadata": {
  "kernelspec": {
   "display_name": "Python 3",
   "language": "python",
   "name": "python3"
  },
  "language_info": {
   "codemirror_mode": {
    "name": "ipython",
    "version": 3
   },
   "file_extension": ".py",
   "mimetype": "text/x-python",
   "name": "python",
   "nbconvert_exporter": "python",
   "pygments_lexer": "ipython3",
   "version": "3.6.5"
  }
 },
 "nbformat": 4,
 "nbformat_minor": 2
}
